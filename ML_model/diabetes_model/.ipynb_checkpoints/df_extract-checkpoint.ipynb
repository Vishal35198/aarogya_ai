{
 "cells": [
  {
   "cell_type": "code",
   "execution_count": 1,
   "id": "6e86214c-96a8-4a4f-833a-34aec4998655",
   "metadata": {},
   "outputs": [],
   "source": [
    "import pandas as pd \n",
    "from tabula import read_pdf"
   ]
  },
  {
   "cell_type": "code",
   "execution_count": 5,
   "id": "827283d1-0d6b-4453-aa56-c5bad9dba0e0",
   "metadata": {},
   "outputs": [
    {
     "name": "stderr",
     "output_type": "stream",
     "text": [
      "Failed to import jpype dependencies. Fallback to subprocess.\n",
      "No module named 'jpype'\n",
      "'pages' argument isn't specified.Will extract only from page 1 by default.\n"
     ]
    }
   ],
   "source": [
    "file = 'output.pdf'\n",
    "df = read_pdf(file,stream = True)"
   ]
  },
  {
   "cell_type": "code",
   "execution_count": 8,
   "id": "fd91df71-8bc1-472b-bc33-41191f72ccd3",
   "metadata": {},
   "outputs": [],
   "source": [
    "df = df[0]"
   ]
  },
  {
   "cell_type": "code",
   "execution_count": 9,
   "id": "df591a4d-89c5-4649-baaa-979754c1c880",
   "metadata": {},
   "outputs": [
    {
     "data": {
      "text/html": [
       "<div>\n",
       "<style scoped>\n",
       "    .dataframe tbody tr th:only-of-type {\n",
       "        vertical-align: middle;\n",
       "    }\n",
       "\n",
       "    .dataframe tbody tr th {\n",
       "        vertical-align: top;\n",
       "    }\n",
       "\n",
       "    .dataframe thead th {\n",
       "        text-align: right;\n",
       "    }\n",
       "</style>\n",
       "<table border=\"1\" class=\"dataframe\">\n",
       "  <thead>\n",
       "    <tr style=\"text-align: right;\">\n",
       "      <th></th>\n",
       "      <th>Pregnancies</th>\n",
       "      <th>Glucose</th>\n",
       "      <th>BloodPressure</th>\n",
       "      <th>SkinThickness</th>\n",
       "      <th>Insulin</th>\n",
       "      <th>BMI</th>\n",
       "      <th>DiabetesPedigreeFunction</th>\n",
       "      <th>Age</th>\n",
       "    </tr>\n",
       "  </thead>\n",
       "  <tbody>\n",
       "    <tr>\n",
       "      <th>0</th>\n",
       "      <td>6.0</td>\n",
       "      <td>98.0</td>\n",
       "      <td>58.0</td>\n",
       "      <td>33.0</td>\n",
       "      <td>190.0</td>\n",
       "      <td>34.0</td>\n",
       "      <td>0.43</td>\n",
       "      <td>43.0</td>\n",
       "    </tr>\n",
       "  </tbody>\n",
       "</table>\n",
       "</div>"
      ],
      "text/plain": [
       "   Pregnancies  Glucose  BloodPressure  SkinThickness  Insulin   BMI  \\\n",
       "0          6.0     98.0           58.0           33.0    190.0  34.0   \n",
       "\n",
       "   DiabetesPedigreeFunction   Age  \n",
       "0                      0.43  43.0  "
      ]
     },
     "execution_count": 9,
     "metadata": {},
     "output_type": "execute_result"
    }
   ],
   "source": [
    "df.head()"
   ]
  },
  {
   "cell_type": "markdown",
   "id": "fe622061-ef47-4662-bb31-fe3570f53071",
   "metadata": {},
   "source": [
    "### Load the model "
   ]
  },
  {
   "cell_type": "code",
   "execution_count": 10,
   "id": "0d6dad58-016d-48d6-b8af-ca60400694a1",
   "metadata": {},
   "outputs": [],
   "source": [
    "import joblib "
   ]
  },
  {
   "cell_type": "code",
   "execution_count": 11,
   "id": "91935fb5-f0d1-4e32-93a4-0ff103bee9f2",
   "metadata": {},
   "outputs": [],
   "source": [
    "model = joblib.load('diabetes_pred.pkl')"
   ]
  },
  {
   "cell_type": "code",
   "execution_count": 12,
   "id": "136a3eab-f27b-416c-b19f-6d54004241ec",
   "metadata": {},
   "outputs": [],
   "source": [
    "pred_outcome = model.predict(df)"
   ]
  },
  {
   "cell_type": "code",
   "execution_count": 17,
   "id": "8b444ff1-1e71-4624-a835-cc932cd258bf",
   "metadata": {},
   "outputs": [],
   "source": [
    "prob_outcome = model.predict_proba(df)"
   ]
  },
  {
   "cell_type": "code",
   "execution_count": 14,
   "id": "e50422b5-f838-4df5-8d63-67562370489e",
   "metadata": {},
   "outputs": [
    {
     "data": {
      "text/plain": [
       "0"
      ]
     },
     "execution_count": 14,
     "metadata": {},
     "output_type": "execute_result"
    }
   ],
   "source": [
    "pred_outcome[0]"
   ]
  },
  {
   "cell_type": "code",
   "execution_count": 19,
   "id": "0f76d754-44ee-4ab4-9fd1-595eba81e309",
   "metadata": {},
   "outputs": [
    {
     "data": {
      "text/plain": [
       "array([[73.02435759, 26.97564241]])"
      ]
     },
     "execution_count": 19,
     "metadata": {},
     "output_type": "execute_result"
    }
   ],
   "source": [
    "prob_outcome*100"
   ]
  },
  {
   "cell_type": "code",
   "execution_count": null,
   "id": "2d951519-0386-4bcb-a013-b875d29b6164",
   "metadata": {},
   "outputs": [],
   "source": []
  }
 ],
 "metadata": {
  "kernelspec": {
   "display_name": "Python 3 (ipykernel)",
   "language": "python",
   "name": "python3"
  },
  "language_info": {
   "codemirror_mode": {
    "name": "ipython",
    "version": 3
   },
   "file_extension": ".py",
   "mimetype": "text/x-python",
   "name": "python",
   "nbconvert_exporter": "python",
   "pygments_lexer": "ipython3",
   "version": "3.12.3"
  }
 },
 "nbformat": 4,
 "nbformat_minor": 5
}
